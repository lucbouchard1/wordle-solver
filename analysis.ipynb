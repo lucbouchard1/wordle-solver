{
 "cells": [
  {
   "cell_type": "code",
   "execution_count": 1,
   "id": "d787e91b",
   "metadata": {},
   "outputs": [],
   "source": [
    "%matplotlib inline\n",
    "import pandas as pd\n",
    "import numpy as np\n",
    "import matplotlib.pyplot as plt"
   ]
  },
  {
   "cell_type": "code",
   "execution_count": 2,
   "id": "63df82db",
   "metadata": {},
   "outputs": [],
   "source": [
    "words = pd.read_csv('words', names=['word'])\n",
    "words['word'] = words.word.str.lower()"
   ]
  },
  {
   "cell_type": "markdown",
   "id": "f644b438",
   "metadata": {},
   "source": [
    "# Make a table of 5 character words"
   ]
  },
  {
   "cell_type": "code",
   "execution_count": 3,
   "id": "2559bae3",
   "metadata": {},
   "outputs": [],
   "source": [
    "words5 = words.where(words.word.str.len() == 5).dropna()"
   ]
  },
  {
   "cell_type": "markdown",
   "id": "4e5f7b3a",
   "metadata": {},
   "source": [
    "# Determine character distribution"
   ]
  },
  {
   "cell_type": "code",
   "execution_count": 4,
   "id": "c1d7ef5b",
   "metadata": {},
   "outputs": [],
   "source": [
    "# Split into table of characters\n",
    "chars = words5.word.str.split('', expand=True).drop(labels=[0, 6], axis=1)\n",
    "# Flatten table and count discrete values\n",
    "charProbs = chars.stack().value_counts(normalize=True)"
   ]
  },
  {
   "cell_type": "code",
   "execution_count": 5,
   "id": "b2c846bd",
   "metadata": {},
   "outputs": [
    {
     "data": {
      "text/plain": [
       "<matplotlib.axes._subplots.AxesSubplot at 0x7f6dbdb1c990>"
      ]
     },
     "execution_count": 5,
     "metadata": {},
     "output_type": "execute_result"
    },
    {
     "data": {
      "image/png": "[encoded data removed]",
      "text/plain": [
       "<Figure size 432x288 with 1 Axes>"
      ]
     },
     "metadata": {
      "needs_background": "light"
     },
     "output_type": "display_data"
    }
   ],
   "source": [
    "charProbs.plot.bar()"
   ]
  },
  {
   "cell_type": "markdown",
   "id": "aa9d4326",
   "metadata": {},
   "source": [
    "# Compute the boring score of each word\n",
    "\n",
    "The boring score is a measure of how unique the characters in a word are. Words with a larger boring score have characters that appear very frequently. The boring score is computed by summing the frequency of each character in the 5 character word. Repeat characters are only counted once."
   ]
  },
  {
   "cell_type": "code",
   "execution_count": 6,
   "id": "19428bf2",
   "metadata": {},
   "outputs": [
    {
     "data": {
      "text/html": [
       "<div>\n",
       "<style scoped>\n",
       "    .dataframe tbody tr th:only-of-type {\n",
       "        vertical-align: middle;\n",
       "    }\n",
       "\n",
       "    .dataframe tbody tr th {\n",
       "        vertical-align: top;\n",
       "    }\n",
       "\n",
       "    .dataframe thead th {\n",
       "        text-align: right;\n",
       "    }\n",
       "</style>\n",
       "<table border=\"1\" class=\"dataframe\">\n",
       "  <thead>\n",
       "    <tr style=\"text-align: right;\">\n",
       "      <th></th>\n",
       "      <th>score</th>\n",
       "      <th>word</th>\n",
       "    </tr>\n",
       "  </thead>\n",
       "  <tbody>\n",
       "    <tr>\n",
       "      <th>13427</th>\n",
       "      <td>0.399961</td>\n",
       "      <td>arose</td>\n",
       "    </tr>\n",
       "    <tr>\n",
       "      <th>131939</th>\n",
       "      <td>0.399961</td>\n",
       "      <td>oreas</td>\n",
       "    </tr>\n",
       "    <tr>\n",
       "      <th>162889</th>\n",
       "      <td>0.399902</td>\n",
       "      <td>raise</td>\n",
       "    </tr>\n",
       "    <tr>\n",
       "      <th>13211</th>\n",
       "      <td>0.399902</td>\n",
       "      <td>arise</td>\n",
       "    </tr>\n",
       "    <tr>\n",
       "      <th>13178</th>\n",
       "      <td>0.399902</td>\n",
       "      <td>aries</td>\n",
       "    </tr>\n",
       "    <tr>\n",
       "      <th>...</th>\n",
       "      <td>...</td>\n",
       "      <td>...</td>\n",
       "    </tr>\n",
       "    <tr>\n",
       "      <th>38374</th>\n",
       "      <td>0.100762</td>\n",
       "      <td>cocco</td>\n",
       "    </tr>\n",
       "    <tr>\n",
       "      <th>210534</th>\n",
       "      <td>0.099629</td>\n",
       "      <td>ululu</td>\n",
       "    </tr>\n",
       "    <tr>\n",
       "      <th>74026</th>\n",
       "      <td>0.095699</td>\n",
       "      <td>fuffy</td>\n",
       "    </tr>\n",
       "    <tr>\n",
       "      <th>234250</th>\n",
       "      <td>0.095679</td>\n",
       "      <td>xylyl</td>\n",
       "    </tr>\n",
       "    <tr>\n",
       "      <th>101955</th>\n",
       "      <td>0.086315</td>\n",
       "      <td>kikki</td>\n",
       "    </tr>\n",
       "  </tbody>\n",
       "</table>\n",
       "<p>10230 rows × 2 columns</p>\n",
       "</div>"
      ],
      "text/plain": [
       "           score   word\n",
       "13427   0.399961  arose\n",
       "131939  0.399961  oreas\n",
       "162889  0.399902  raise\n",
       "13211   0.399902  arise\n",
       "13178   0.399902  aries\n",
       "...          ...    ...\n",
       "38374   0.100762  cocco\n",
       "210534  0.099629  ululu\n",
       "74026   0.095699  fuffy\n",
       "234250  0.095679  xylyl\n",
       "101955  0.086315  kikki\n",
       "\n",
       "[10230 rows x 2 columns]"
      ]
     },
     "execution_count": 6,
     "metadata": {},
     "output_type": "execute_result"
    }
   ],
   "source": [
    "boringScore = pd.DataFrame(chars.apply(lambda row: sum([charProbs[c] for c in list(set(row))]), axis=1), columns=['score'])\n",
    "boringScore = boringScore.join(words5)\n",
    "boringScore.sort_values(by='score', ascending=False)"
   ]
  },
  {
   "cell_type": "code",
   "execution_count": 89,
   "id": "07877e91",
   "metadata": {},
   "outputs": [],
   "source": [
    "def stepWordTable(tbl, include=[], exclude=[], inplace=[], guess=None):\n",
    "    conds = ~tbl.word.isna()\n",
    "    \n",
    "    # Includes\n",
    "    for c in include:\n",
    "        conds &= tbl.word.str.contains(c)\n",
    "    \n",
    "    # Excludes\n",
    "    if len(exclude) > 0:\n",
    "        conds &= ~tbl.word.str.contains(f\"[{''.join(exclude)}]\")\n",
    "    \n",
    "    # In place\n",
    "    for i,c in enumerate(inplace):\n",
    "        if c is None:\n",
    "            continue\n",
    "        conds &= tbl.word.str[i] == c\n",
    "\n",
    "    # Drop guess\n",
    "    if guess is not None:\n",
    "        conds &= ~tbl.word.str.match(guess)\n",
    "\n",
    "    return tbl.where(conds).dropna(), (~conds).sum()"
   ]
  },
  {
   "cell_type": "code",
   "execution_count": 90,
   "id": "abeadb04",
   "metadata": {},
   "outputs": [],
   "source": [
    "def checkWordleGuess(guess, word):\n",
    "    correct = guess == word\n",
    "    inWord = list(filter(None, [c if c in word else None for c in guess]))\n",
    "    notInWord = list(set(guess) - set(inWord))\n",
    "    inPlace = [c if c == w else None for c,w in zip(guess, word)]\n",
    "    return (correct, inWord, notInWord, inPlace)\n",
    "\n",
    "def solveWordle(boringScore, word):\n",
    "    tbl = boringScore\n",
    "    log = []\n",
    "    included = []\n",
    "    excluded = []\n",
    "    inPlace = []\n",
    "    lastIdx = 0\n",
    "    \n",
    "    while len(tbl) > 0:\n",
    "        guess = tbl.nlargest(lastIdx + 1, 'score').iloc[-1].word\n",
    "        log.append((len(tbl), guess))\n",
    "        \n",
    "        success, i, e, inPlace = checkWordleGuess(guess, word)\n",
    "        if (success):\n",
    "            return guess, log\n",
    "        \n",
    "        included = list(set(i + included))\n",
    "        excluded = list(set(e + excluded))\n",
    "        tbl, numDropped = stepWordTable(tbl, included, excluded, inPlace, guess)\n",
    "        if numDropped == 0:\n",
    "            lastIdx += 1\n",
    "        else:\n",
    "            lastIdx = 0\n",
    "    \n",
    "    return None, log"
   ]
  },
  {
   "cell_type": "code",
   "execution_count": 92,
   "id": "c64b0554",
   "metadata": {},
   "outputs": [
    {
     "data": {
      "text/plain": [
       "('proxy', [(10230, 'arose'), (81, 'irony'), (5, 'drovy'), (3, 'proxy')])"
      ]
     },
     "execution_count": 92,
     "metadata": {},
     "output_type": "execute_result"
    }
   ],
   "source": [
    "solveWordle(boringScore, 'proxy')"
   ]
  },
  {
   "cell_type": "code",
   "execution_count": null,
   "id": "03119834",
   "metadata": {},
   "outputs": [],
   "source": []
  }
 ],
 "metadata": {
  "kernelspec": {
   "display_name": "Python 3",
   "language": "python",
   "name": "python3"
  },
  "language_info": {
   "codemirror_mode": {
    "name": "ipython",
    "version": 3
   },
   "file_extension": ".py",
   "mimetype": "text/x-python",
   "name": "python",
   "nbconvert_exporter": "python",
   "pygments_lexer": "ipython3",
   "version": "3.7.9"
  }
 },
 "nbformat": 4,
 "nbformat_minor": 5
}
